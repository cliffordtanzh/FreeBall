{
 "cells": [
  {
   "cell_type": "code",
   "execution_count": 1,
   "metadata": {},
   "outputs": [],
   "source": [
    "import pandas as pd\n",
    "import numpy as np\n",
    "import matplotlib.pyplot as plt\n",
    "import seaborn as sns\n",
    "\n",
    "import os\n",
    "import pickle as pkl\n",
    "import sys\n",
    "\n",
    "import warnings\n",
    "warnings.simplefilter(\"ignore\")\n",
    "\n",
    "pd.set_option(\"display.max_columns\", None)\n",
    "pd.set_option(\"display.width\", None)\n",
    "\n",
    "%matplotlib inline\n",
    "%load_ext autoreload\n",
    "%autoreload 2"
   ]
  },
  {
   "cell_type": "code",
   "execution_count": 2,
   "metadata": {},
   "outputs": [
    {
     "name": "stderr",
     "output_type": "stream",
     "text": [
      "Using cache found in /home/clifford/.cache/torch/hub/ultralytics_yolov5_master\n",
      "YOLOv5 🚀 2025-1-11 Python-3.10.16 torch-2.5.1+cu118 CUDA:0 (NVIDIA GeForce RTX 4060, 7933MiB)\n",
      "\n",
      "Fusing layers... \n",
      "YOLOv5x summary: 444 layers, 86705005 parameters, 0 gradients, 205.5 GFLOPs\n",
      "Adding AutoShape... \n"
     ]
    }
   ],
   "source": [
    "import torch\n",
    "import cv2\n",
    "\n",
    "yolov5 = torch.hub.load(\n",
    "    \"ultralytics/yolov5\", \n",
    "    \"custom\", \n",
    "    \"yolov5/weights/yolov5x.pt\",\n",
    ")\n",
    "\n",
    "videos_dir = \"data/raw\"\n",
    "filename = \"video_1.mp4\"\n",
    "filepath = os.path.join(videos_dir, filename)"
   ]
  },
  {
   "cell_type": "markdown",
   "metadata": {},
   "source": [
    "Yolov5 is not accurate enough to pickup the position of the ball. Will need to finetune with respect to the dataset we have."
   ]
  },
  {
   "cell_type": "code",
   "execution_count": 3,
   "metadata": {},
   "outputs": [
    {
     "name": "stdout",
     "output_type": "stream",
     "text": [
      "(5313, 8)\n"
     ]
    },
    {
     "data": {
      "text/html": [
       "<div>\n",
       "<style scoped>\n",
       "    .dataframe tbody tr th:only-of-type {\n",
       "        vertical-align: middle;\n",
       "    }\n",
       "\n",
       "    .dataframe tbody tr th {\n",
       "        vertical-align: top;\n",
       "    }\n",
       "\n",
       "    .dataframe thead th {\n",
       "        text-align: right;\n",
       "    }\n",
       "</style>\n",
       "<table border=\"1\" class=\"dataframe\">\n",
       "  <thead>\n",
       "    <tr style=\"text-align: right;\">\n",
       "      <th></th>\n",
       "      <th>xmin</th>\n",
       "      <th>ymin</th>\n",
       "      <th>xmax</th>\n",
       "      <th>ymax</th>\n",
       "      <th>confidence</th>\n",
       "      <th>class</th>\n",
       "      <th>name</th>\n",
       "      <th>frame_num</th>\n",
       "    </tr>\n",
       "  </thead>\n",
       "  <tbody>\n",
       "    <tr>\n",
       "      <th>0</th>\n",
       "      <td>193.207718</td>\n",
       "      <td>240.91951</td>\n",
       "      <td>198.226913</td>\n",
       "      <td>246.77951</td>\n",
       "      <td>0.591428</td>\n",
       "      <td>32</td>\n",
       "      <td>sports ball</td>\n",
       "      <td>1</td>\n",
       "    </tr>\n",
       "    <tr>\n",
       "      <th>1</th>\n",
       "      <td>193.207718</td>\n",
       "      <td>240.91951</td>\n",
       "      <td>198.226913</td>\n",
       "      <td>246.77951</td>\n",
       "      <td>0.591428</td>\n",
       "      <td>32</td>\n",
       "      <td>sports ball</td>\n",
       "      <td>2</td>\n",
       "    </tr>\n",
       "    <tr>\n",
       "      <th>2</th>\n",
       "      <td>193.207718</td>\n",
       "      <td>240.91951</td>\n",
       "      <td>198.226913</td>\n",
       "      <td>246.77951</td>\n",
       "      <td>0.591428</td>\n",
       "      <td>32</td>\n",
       "      <td>sports ball</td>\n",
       "      <td>3</td>\n",
       "    </tr>\n",
       "    <tr>\n",
       "      <th>3</th>\n",
       "      <td>193.207718</td>\n",
       "      <td>240.91951</td>\n",
       "      <td>198.226913</td>\n",
       "      <td>246.77951</td>\n",
       "      <td>0.591428</td>\n",
       "      <td>32</td>\n",
       "      <td>sports ball</td>\n",
       "      <td>4</td>\n",
       "    </tr>\n",
       "    <tr>\n",
       "      <th>4</th>\n",
       "      <td>193.207718</td>\n",
       "      <td>240.91951</td>\n",
       "      <td>198.226913</td>\n",
       "      <td>246.77951</td>\n",
       "      <td>0.591428</td>\n",
       "      <td>32</td>\n",
       "      <td>sports ball</td>\n",
       "      <td>5</td>\n",
       "    </tr>\n",
       "  </tbody>\n",
       "</table>\n",
       "</div>"
      ],
      "text/plain": [
       "         xmin       ymin        xmax       ymax  confidence  class  \\\n",
       "0  193.207718  240.91951  198.226913  246.77951    0.591428     32   \n",
       "1  193.207718  240.91951  198.226913  246.77951    0.591428     32   \n",
       "2  193.207718  240.91951  198.226913  246.77951    0.591428     32   \n",
       "3  193.207718  240.91951  198.226913  246.77951    0.591428     32   \n",
       "4  193.207718  240.91951  198.226913  246.77951    0.591428     32   \n",
       "\n",
       "          name  frame_num  \n",
       "0  sports ball          1  \n",
       "1  sports ball          2  \n",
       "2  sports ball          3  \n",
       "3  sports ball          4  \n",
       "4  sports ball          5  "
      ]
     },
     "execution_count": 3,
     "metadata": {},
     "output_type": "execute_result"
    }
   ],
   "source": [
    "from src.processing import get_ball_locations\n",
    "\n",
    "# capture = cv2.VideoCapture(filepath)\n",
    "# ball_locations = get_ball_locations(yolov5, capture, batch_size = 100)\n",
    "\n",
    "# ball_locations.to_csv(\"data/processed/ball_locations.csv\")\n",
    "ball_locations = pd.read_csv(\"data/processed/ball_locations.csv\", index_col = 0)\n",
    "print(ball_locations.shape)\n",
    "ball_locations.head()"
   ]
  },
  {
   "cell_type": "code",
   "execution_count": 4,
   "metadata": {},
   "outputs": [
    {
     "name": "stdout",
     "output_type": "stream",
     "text": [
      "(183,)\n"
     ]
    },
    {
     "data": {
      "text/plain": [
       "frame_num\n",
       "769     2\n",
       "2346    2\n",
       "2347    2\n",
       "2348    2\n",
       "2349    2\n",
       "dtype: int64"
      ]
     },
     "execution_count": 4,
     "metadata": {},
     "output_type": "execute_result"
    }
   ],
   "source": [
    "frame_counts = ball_locations.groupby(\"frame_num\").size()\n",
    "multiple_annots = frame_counts[frame_counts > 1]\n",
    "\n",
    "print(multiple_annots.shape)\n",
    "multiple_annots.head()"
   ]
  },
  {
   "cell_type": "code",
   "execution_count": 5,
   "metadata": {},
   "outputs": [
    {
     "name": "stdout",
     "output_type": "stream",
     "text": [
      "(5123, 8)\n"
     ]
    },
    {
     "data": {
      "text/html": [
       "<div>\n",
       "<style scoped>\n",
       "    .dataframe tbody tr th:only-of-type {\n",
       "        vertical-align: middle;\n",
       "    }\n",
       "\n",
       "    .dataframe tbody tr th {\n",
       "        vertical-align: top;\n",
       "    }\n",
       "\n",
       "    .dataframe thead th {\n",
       "        text-align: right;\n",
       "    }\n",
       "</style>\n",
       "<table border=\"1\" class=\"dataframe\">\n",
       "  <thead>\n",
       "    <tr style=\"text-align: right;\">\n",
       "      <th></th>\n",
       "      <th>xmin</th>\n",
       "      <th>ymin</th>\n",
       "      <th>xmax</th>\n",
       "      <th>ymax</th>\n",
       "      <th>confidence</th>\n",
       "      <th>class</th>\n",
       "      <th>name</th>\n",
       "      <th>frame_num</th>\n",
       "    </tr>\n",
       "  </thead>\n",
       "  <tbody>\n",
       "    <tr>\n",
       "      <th>0</th>\n",
       "      <td>193.207718</td>\n",
       "      <td>240.91951</td>\n",
       "      <td>198.226913</td>\n",
       "      <td>246.77951</td>\n",
       "      <td>0.591428</td>\n",
       "      <td>32</td>\n",
       "      <td>sports ball</td>\n",
       "      <td>1</td>\n",
       "    </tr>\n",
       "    <tr>\n",
       "      <th>1</th>\n",
       "      <td>193.207718</td>\n",
       "      <td>240.91951</td>\n",
       "      <td>198.226913</td>\n",
       "      <td>246.77951</td>\n",
       "      <td>0.591428</td>\n",
       "      <td>32</td>\n",
       "      <td>sports ball</td>\n",
       "      <td>2</td>\n",
       "    </tr>\n",
       "    <tr>\n",
       "      <th>2</th>\n",
       "      <td>193.207718</td>\n",
       "      <td>240.91951</td>\n",
       "      <td>198.226913</td>\n",
       "      <td>246.77951</td>\n",
       "      <td>0.591428</td>\n",
       "      <td>32</td>\n",
       "      <td>sports ball</td>\n",
       "      <td>3</td>\n",
       "    </tr>\n",
       "    <tr>\n",
       "      <th>3</th>\n",
       "      <td>193.207718</td>\n",
       "      <td>240.91951</td>\n",
       "      <td>198.226913</td>\n",
       "      <td>246.77951</td>\n",
       "      <td>0.591428</td>\n",
       "      <td>32</td>\n",
       "      <td>sports ball</td>\n",
       "      <td>4</td>\n",
       "    </tr>\n",
       "    <tr>\n",
       "      <th>4</th>\n",
       "      <td>193.207718</td>\n",
       "      <td>240.91951</td>\n",
       "      <td>198.226913</td>\n",
       "      <td>246.77951</td>\n",
       "      <td>0.591428</td>\n",
       "      <td>32</td>\n",
       "      <td>sports ball</td>\n",
       "      <td>5</td>\n",
       "    </tr>\n",
       "  </tbody>\n",
       "</table>\n",
       "</div>"
      ],
      "text/plain": [
       "         xmin       ymin        xmax       ymax  confidence  class  \\\n",
       "0  193.207718  240.91951  198.226913  246.77951    0.591428     32   \n",
       "1  193.207718  240.91951  198.226913  246.77951    0.591428     32   \n",
       "2  193.207718  240.91951  198.226913  246.77951    0.591428     32   \n",
       "3  193.207718  240.91951  198.226913  246.77951    0.591428     32   \n",
       "4  193.207718  240.91951  198.226913  246.77951    0.591428     32   \n",
       "\n",
       "          name  frame_num  \n",
       "0  sports ball          1  \n",
       "1  sports ball          2  \n",
       "2  sports ball          3  \n",
       "3  sports ball          4  \n",
       "4  sports ball          5  "
      ]
     },
     "execution_count": 5,
     "metadata": {},
     "output_type": "execute_result"
    }
   ],
   "source": [
    "# Only keep the highest confidence annot\n",
    "\n",
    "to_drop = []\n",
    "for frame_num in multiple_annots.index:\n",
    "    annot_subset = ball_locations[ball_locations[\"frame_num\"] == frame_num]\n",
    "    max_conf = annot_subset[\"confidence\"].max()\n",
    "\n",
    "    non_max_annots_idx = annot_subset[annot_subset[\"confidence\"] < max_conf].index\n",
    "    to_drop.extend(non_max_annots_idx)\n",
    "\n",
    "single_annots = ball_locations.drop(index = to_drop)\n",
    "print(single_annots.shape)\n",
    "single_annots.head()"
   ]
  },
  {
   "cell_type": "code",
   "execution_count": 6,
   "metadata": {},
   "outputs": [
    {
     "name": "stderr",
     "output_type": "stream",
     "text": [
      "100%|██████████| 5123/5123 [00:05<00:00, 933.17it/s] \n"
     ]
    },
    {
     "data": {
      "text/plain": [
       "(2119, 2119)"
      ]
     },
     "execution_count": 6,
     "metadata": {},
     "output_type": "execute_result"
    }
   ],
   "source": [
    "from src.utils import plot_image\n",
    "from tqdm import tqdm\n",
    "\n",
    "capture = cv2.VideoCapture(filepath)\n",
    "total_frames = capture.get(cv2.CAP_PROP_FRAME_COUNT)\n",
    "\n",
    "label_cutouts = []\n",
    "cutout_frames = []\n",
    "label_frames = single_annots[\"frame_num\"].unique()\n",
    "\n",
    "frame_num = 1\n",
    "ret, frame = capture.read()\n",
    "for label_frame_num in tqdm(label_frames):\n",
    "    while frame_num != label_frame_num:\n",
    "        ret, frame = capture.read()\n",
    "        frame_num += 1\n",
    "\n",
    "    frame_rgb = cv2.cvtColor(frame, cv2.COLOR_BGR2RGB)\n",
    "    \n",
    "    locations = single_annots[single_annots[\"frame_num\"] == label_frame_num]\n",
    "    for _, row in locations.iterrows():\n",
    "        x1, y1, x2, y2 = row[[\"xmin\", \"ymin\", \"xmax\", \"ymax\"]].astype(int).values\n",
    "        conf = row[\"confidence\"]\n",
    "        if conf < 0.60:\n",
    "            continue\n",
    "\n",
    "        cutout = frame_rgb[y1: y2, x1: x2]\n",
    "        label_cutouts.append(cutout)\n",
    "        cutout_frames.append(label_frame_num)\n",
    "\n",
    "len(label_cutouts), len(cutout_frames)"
   ]
  },
  {
   "cell_type": "code",
   "execution_count": 7,
   "metadata": {},
   "outputs": [
    {
     "name": "stdout",
     "output_type": "stream",
     "text": [
      "1483 636\n"
     ]
    }
   ],
   "source": [
    "# Prepare train val split\n",
    "\n",
    "# 70% train, 30% val\n",
    "np.random.seed(42)\n",
    "\n",
    "shuffled_idx = cutout_frames.copy()\n",
    "np.random.shuffle(shuffled_idx)\n",
    "\n",
    "train_stop = int(0.70 * len(shuffled_idx))\n",
    "\n",
    "train_frames, val_frames = np.split(shuffled_idx, [train_stop])\n",
    "print(len(train_frames), len(val_frames))\n",
    "\n",
    "assert len(np.intersect1d(train_frames, val_frames)) == 0"
   ]
  },
  {
   "cell_type": "code",
   "execution_count": 8,
   "metadata": {},
   "outputs": [],
   "source": [
    "# Store the frames needed as an image file and create the .txt labels for each image\n",
    "\n",
    "img_dir = \"data/retraining/images\"\n",
    "label_dir = \"data/retraining/labels\"\n",
    "\n",
    "img_height = 360\n",
    "img_width = 640\n",
    "\n",
    "capture = cv2.VideoCapture(filepath)\n",
    "frame_num = 1\n",
    "\n",
    "while capture.isOpened():\n",
    "    ret, frame = capture.read()\n",
    "    if not ret:\n",
    "        break\n",
    "\n",
    "    if frame_num not in cutout_frames:\n",
    "        frame_num += 1\n",
    "        continue\n",
    "    \n",
    "    sub_dir = \"train\" if frame_num in train_frames else \"val\"\n",
    "    img_name = f\"frame_{frame_num}\"\n",
    "    img_path = os.path.join(\n",
    "        img_dir,\n",
    "        sub_dir,\n",
    "        f\"{img_name}.jpg\"\n",
    "    )\n",
    "    cv2.imwrite(img_path, frame)\n",
    "\n",
    "    locations = single_annots[single_annots[\"frame_num\"] == frame_num]\n",
    "    if len(locations) > 0:\n",
    "        label_path = os.path.join(\n",
    "            label_dir,\n",
    "            sub_dir,\n",
    "            f\"{img_name}.txt\"\n",
    "        )\n",
    "        label_file = open(label_path, \"a\")\n",
    "    \n",
    "    for _, row in locations.iterrows():\n",
    "        x1, y1, x2, y2 = row[[\"xmin\", \"ymin\", \"xmax\", \"ymax\"]].astype(int)\n",
    "        width = x2 - x1\n",
    "        height = y2 - y1\n",
    "\n",
    "        x_center = x1 + width // 2\n",
    "        y_center = y1 + height // 2\n",
    "\n",
    "        norm_width = width / img_width\n",
    "        norm_height = height / img_height\n",
    "\n",
    "        norm_x_center = x_center / img_width\n",
    "        norm_y_center = y_center / img_height\n",
    "\n",
    "        label_file.write(\n",
    "            f\"32 {norm_x_center} {norm_y_center} {norm_width} {norm_height}\\n\"\n",
    "        )\n",
    "\n",
    "    frame_num += 1\n",
    "    label_file.close()"
   ]
  }
 ],
 "metadata": {
  "kernelspec": {
   "display_name": "FreeBall",
   "language": "python",
   "name": "python3"
  },
  "language_info": {
   "codemirror_mode": {
    "name": "ipython",
    "version": 3
   },
   "file_extension": ".py",
   "mimetype": "text/x-python",
   "name": "python",
   "nbconvert_exporter": "python",
   "pygments_lexer": "ipython3",
   "version": "3.10.16"
  }
 },
 "nbformat": 4,
 "nbformat_minor": 2
}
