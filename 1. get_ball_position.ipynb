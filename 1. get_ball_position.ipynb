{
 "cells": [
  {
   "cell_type": "code",
   "execution_count": 15,
   "metadata": {},
   "outputs": [],
   "source": [
    "import matplotlib.pyplot as plt\n",
    "import cv2\n",
    "import yaml\n",
    "\n",
    "import torch\n",
    "\n",
    "import warnings\n",
    "warnings.simplefilter(\"ignore\")"
   ]
  },
  {
   "cell_type": "code",
   "execution_count": 33,
   "metadata": {},
   "outputs": [],
   "source": [
    "from src.utils import plot_image\n",
    "from tqdm import tqdm\n",
    "\n",
    "filename = \"data/raw/20240602 212200 [FCtTboJZqRo].mp4\"\n",
    "# yolov5 = torch.hub.load(\"ultralytics/yolov5\", \"custom\", \"yolov5/weights/yolov5s.pt\")\n",
    "# name_dict = yaml.safe_load(open(\"yolov5/data/coco.yaml\", \"r\"))[\"names\"]\n",
    "\n",
    "capture = cv2.VideoCapture(filename)\n",
    "frame_num = 0\n",
    "has_ball_frames = []\n",
    "shown = 0\n",
    "\n",
    "while capture.isOpened():\n",
    "    ret, frame = capture.read()\n",
    "    if not ret:\n",
    "        break\n",
    "\n",
    "    if frame_num < 2000:\n",
    "        frame_num += 1\n",
    "        continue\n",
    "\n",
    "    frame_rgb = cv2.cvtColor(frame, cv2.COLOR_BGR2RGB)\n",
    "\n",
    "    results = yolov5(frame_rgb)\n",
    "    results = (\n",
    "        results\n",
    "        .xyxy[0]\n",
    "        .detach()\n",
    "        .cpu()\n",
    "        .numpy()\n",
    "        .astype(int)\n",
    "    )\n",
    "    for x1, y1, x2, y2, conf, name_id in results:\n",
    "        name = name_dict[int(name_id)]\n",
    "        if name != \"sports ball\":\n",
    "            cv2.imshow(\"stream\", frame)\n",
    "            continue\n",
    "\n",
    "        annotated_frame = frame.copy()\n",
    "        cv2.rectangle(\n",
    "            annotated_frame,\n",
    "            (x1, y1),\n",
    "            (x2, y2),\n",
    "            color = (0, 0, 255),\n",
    "            thickness = 1\n",
    "        )\n",
    "        cv2.imshow(\"stream\", annotated_frame)\n",
    "\n",
    "    cv2.setWindowProperty(\"stream\", cv2.WND_PROP_TOPMOST, 1)\n",
    "    key = cv2.waitKey(1)\n",
    "    if key == ord(\"q\"):\n",
    "        break\n",
    "\n",
    "    frame_num += 1\n",
    "\n",
    "cv2.destroyAllWindows()"
   ]
  },
  {
   "cell_type": "markdown",
   "metadata": {},
   "source": [
    "Yolov5 is not accurate enough to pickup the position of the ball. Will need to finetune with respect to the dataset we have."
   ]
  }
 ],
 "metadata": {
  "kernelspec": {
   "display_name": "FreeBall",
   "language": "python",
   "name": "python3"
  },
  "language_info": {
   "codemirror_mode": {
    "name": "ipython",
    "version": 3
   },
   "file_extension": ".py",
   "mimetype": "text/x-python",
   "name": "python",
   "nbconvert_exporter": "python",
   "pygments_lexer": "ipython3",
   "version": "3.10.16"
  }
 },
 "nbformat": 4,
 "nbformat_minor": 2
}
