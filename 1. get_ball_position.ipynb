{
 "cells": [
  {
   "cell_type": "code",
   "execution_count": 1,
   "metadata": {},
   "outputs": [],
   "source": [
    "import pandas as pd\n",
    "import numpy as np\n",
    "import matplotlib.pyplot as plt\n",
    "import seaborn as sns\n",
    "\n",
    "import os\n",
    "import pickle as pkl\n",
    "import sys\n",
    "\n",
    "import warnings\n",
    "warnings.simplefilter(\"ignore\")\n",
    "\n",
    "pd.set_option(\"display.max_columns\", None)\n",
    "pd.set_option(\"display.width\", None)\n",
    "\n",
    "%matplotlib inline\n",
    "%load_ext autoreload\n",
    "%autoreload 2"
   ]
  },
  {
   "cell_type": "code",
   "execution_count": 3,
   "metadata": {},
   "outputs": [
    {
     "name": "stderr",
     "output_type": "stream",
     "text": [
      "Using cache found in C:\\Users\\Clifford_PP/.cache\\torch\\hub\\ultralytics_yolov5_master\n",
      "YOLOv5  2025-1-4 Python-3.10.16 torch-2.5.1+cpu CPU\n",
      "\n",
      "Fusing layers... \n",
      "YOLOv5s summary: 213 layers, 7225885 parameters, 0 gradients, 16.4 GFLOPs\n",
      "Adding AutoShape... \n"
     ]
    }
   ],
   "source": [
    "import torch\n",
    "import cv2\n",
    "\n",
    "yolov5 = torch.hub.load(\"ultralytics/yolov5\", \"custom\", \"yolov5/weights/yolov5s.pt\")\n",
    "\n",
    "videos_dir = \"data/raw\"\n",
    "filename = \"20240602 220107 [OyLe-Z-knPU].mp4\"\n",
    "filepath = os.path.join(videos_dir, filename)\n",
    "\n",
    "capture = cv2.VideoCapture(filepath)\n",
    "num_frames = int(capture.get(cv2.CAP_PROP_FRAME_COUNT))"
   ]
  },
  {
   "cell_type": "code",
   "execution_count": 4,
   "metadata": {},
   "outputs": [
    {
     "data": {
      "text/html": [
       "<div>\n",
       "<style scoped>\n",
       "    .dataframe tbody tr th:only-of-type {\n",
       "        vertical-align: middle;\n",
       "    }\n",
       "\n",
       "    .dataframe tbody tr th {\n",
       "        vertical-align: top;\n",
       "    }\n",
       "\n",
       "    .dataframe thead th {\n",
       "        text-align: right;\n",
       "    }\n",
       "</style>\n",
       "<table border=\"1\" class=\"dataframe\">\n",
       "  <thead>\n",
       "    <tr style=\"text-align: right;\">\n",
       "      <th></th>\n",
       "      <th>xmin</th>\n",
       "      <th>ymin</th>\n",
       "      <th>xmax</th>\n",
       "      <th>ymax</th>\n",
       "      <th>confidence</th>\n",
       "      <th>class</th>\n",
       "      <th>name</th>\n",
       "      <th>frame_num</th>\n",
       "      <th>filename</th>\n",
       "    </tr>\n",
       "  </thead>\n",
       "  <tbody>\n",
       "    <tr>\n",
       "      <th>0</th>\n",
       "      <td>509.142578</td>\n",
       "      <td>172.461655</td>\n",
       "      <td>518.546875</td>\n",
       "      <td>180.298965</td>\n",
       "      <td>0.454018</td>\n",
       "      <td>32</td>\n",
       "      <td>sports ball</td>\n",
       "      <td>1</td>\n",
       "      <td>20240602 220107 [OyLe-Z-knPU].mp4</td>\n",
       "    </tr>\n",
       "    <tr>\n",
       "      <th>1</th>\n",
       "      <td>509.150391</td>\n",
       "      <td>172.476807</td>\n",
       "      <td>518.542725</td>\n",
       "      <td>180.277954</td>\n",
       "      <td>0.453389</td>\n",
       "      <td>32</td>\n",
       "      <td>sports ball</td>\n",
       "      <td>2</td>\n",
       "      <td>20240602 220107 [OyLe-Z-knPU].mp4</td>\n",
       "    </tr>\n",
       "    <tr>\n",
       "      <th>2</th>\n",
       "      <td>509.150421</td>\n",
       "      <td>172.477158</td>\n",
       "      <td>518.543091</td>\n",
       "      <td>180.278397</td>\n",
       "      <td>0.453604</td>\n",
       "      <td>32</td>\n",
       "      <td>sports ball</td>\n",
       "      <td>3</td>\n",
       "      <td>20240602 220107 [OyLe-Z-knPU].mp4</td>\n",
       "    </tr>\n",
       "    <tr>\n",
       "      <th>3</th>\n",
       "      <td>509.150421</td>\n",
       "      <td>172.477158</td>\n",
       "      <td>518.543091</td>\n",
       "      <td>180.278397</td>\n",
       "      <td>0.453604</td>\n",
       "      <td>32</td>\n",
       "      <td>sports ball</td>\n",
       "      <td>4</td>\n",
       "      <td>20240602 220107 [OyLe-Z-knPU].mp4</td>\n",
       "    </tr>\n",
       "    <tr>\n",
       "      <th>4</th>\n",
       "      <td>509.150421</td>\n",
       "      <td>172.477158</td>\n",
       "      <td>518.543091</td>\n",
       "      <td>180.278397</td>\n",
       "      <td>0.453604</td>\n",
       "      <td>32</td>\n",
       "      <td>sports ball</td>\n",
       "      <td>5</td>\n",
       "      <td>20240602 220107 [OyLe-Z-knPU].mp4</td>\n",
       "    </tr>\n",
       "  </tbody>\n",
       "</table>\n",
       "</div>"
      ],
      "text/plain": [
       "         xmin        ymin        xmax        ymax  confidence  class  \\\n",
       "0  509.142578  172.461655  518.546875  180.298965    0.454018     32   \n",
       "1  509.150391  172.476807  518.542725  180.277954    0.453389     32   \n",
       "2  509.150421  172.477158  518.543091  180.278397    0.453604     32   \n",
       "3  509.150421  172.477158  518.543091  180.278397    0.453604     32   \n",
       "4  509.150421  172.477158  518.543091  180.278397    0.453604     32   \n",
       "\n",
       "          name  frame_num                           filename  \n",
       "0  sports ball          1  20240602 220107 [OyLe-Z-knPU].mp4  \n",
       "1  sports ball          2  20240602 220107 [OyLe-Z-knPU].mp4  \n",
       "2  sports ball          3  20240602 220107 [OyLe-Z-knPU].mp4  \n",
       "3  sports ball          4  20240602 220107 [OyLe-Z-knPU].mp4  \n",
       "4  sports ball          5  20240602 220107 [OyLe-Z-knPU].mp4  "
      ]
     },
     "execution_count": 4,
     "metadata": {},
     "output_type": "execute_result"
    }
   ],
   "source": [
    "# from tqdm import trange\n",
    "\n",
    "# from src.utils import plot_image, IMAGE_SIZE\n",
    "\n",
    "# frame_num = 1\n",
    "# ball_locations = pd.DataFrame()\n",
    "\n",
    "# batch_size = 240\n",
    "# batch = []\n",
    "\n",
    "# pbar = trange(num_frames)\n",
    "# while capture.isOpened():\n",
    "#     pbar.update(1)\n",
    "#     pbar.set_description(\"Batching\")\n",
    "\n",
    "#     ret, frame = capture.read()\n",
    "#     if not ret:\n",
    "#         break\n",
    "\n",
    "#     frame_rgb = cv2.cvtColor(frame, cv2.COLOR_BGR2RGB)\n",
    "#     batch.append(frame_rgb)\n",
    "\n",
    "#     if (len(batch) < batch_size) and (len(batch) + frame_num < num_frames):\n",
    "#         continue\n",
    "\n",
    "#     pbar.set_description(\"Inference\")\n",
    "#     results = yolov5(batch)\n",
    "\n",
    "#     for i, res_df in enumerate(results.pandas().xyxy):\n",
    "#         if \"sports ball\" not in res_df[\"name\"].values:\n",
    "#             continue\n",
    "\n",
    "#         curr_frame_num = frame_num + i\n",
    "#         res_df[\"frame_num\"] = curr_frame_num\n",
    "#         ball_loc = res_df[res_df[\"name\"] == \"sports ball\"]\n",
    "#         ball_locations = pd.concat([ball_locations, ball_loc])\n",
    "    \n",
    "#     frame_num += batch_size\n",
    "#     batch = []\n",
    "\n",
    "# ball_locations[\"filename\"] = filename\n",
    "processed_dir = os.path.join(\"data/processed\")\n",
    "# ball_locations = ball_locations.reset_index(drop = True)\n",
    "# ball_locations.to_csv(os.path.join(processed_dir, \"ball_locations.csv\"))\n",
    "\n",
    "ball_locations = pd.read_csv(os.path.join(processed_dir, \"ball_locations.csv\"), index_col = 0)\n",
    "ball_locations.head()"
   ]
  },
  {
   "cell_type": "markdown",
   "metadata": {},
   "source": [
    "Yolov5 is not accurate enough to pickup the position of the ball. Will need to finetune with respect to the dataset we have."
   ]
  },
  {
   "cell_type": "code",
   "execution_count": 5,
   "metadata": {},
   "outputs": [],
   "source": [
    "# Find the mean color of each captured bbox\n",
    "from src.utils import plot_image\n",
    "\n",
    "capture = cv2.VideoCapture(filepath)\n",
    "frame_num = 1\n",
    "\n",
    "potential_labels = []\n",
    "savedir = \"data/processed/potential_labels\"\n",
    "while capture.isOpened():\n",
    "    ret, frame = capture.read()\n",
    "\n",
    "    if ret is None:\n",
    "        break\n",
    "\n",
    "    bbox_locations = ball_locations[ball_locations[\"frame_num\"] == frame_num]\n",
    "    for idx in range(len(bbox_locations)):\n",
    "        location = bbox_locations.iloc[idx, :]\n",
    "        x1, y1, x2, y2 = location[[\"xmin\", \"ymin\", \"xmax\", \"ymax\"]].astype(int)\n",
    "\n",
    "        cutout = frame[y1: y2, x1: x2]\n",
    "        plot_image(cutout)\n",
    "        plt.savefig(os.path.join(savedir, f\"{frame_num}_{idx}.jpg\"))\n",
    "\n",
    "        potential_labels.append(cutout)\n",
    "\n",
    "    frame_num += 1\n",
    "    if frame_num >= 10000:\n",
    "        break"
   ]
  },
  {
   "cell_type": "code",
   "execution_count": 38,
   "metadata": {},
   "outputs": [
    {
     "data": {
      "text/plain": [
       "4158"
      ]
     },
     "execution_count": 38,
     "metadata": {},
     "output_type": "execute_result"
    }
   ],
   "source": [
    "# Perform clustering on the yellowness of an image. \n",
    "# Yellow is a combination of red and green, so cluster based on the mean of\n",
    "# these 2 values\n",
    "\n",
    "def get_average_color(frame):\n",
    "    return frame.mean(axis = 0).mean(axis = 0)\n",
    "\n",
    "average_colors = [get_average_color(frame) for frame in potential_labels]\n",
    "len(average_colors)"
   ]
  },
  {
   "cell_type": "code",
   "execution_count": 41,
   "metadata": {},
   "outputs": [
    {
     "data": {
      "text/plain": [
       "array([1359,  691,  612,  964,  532])"
      ]
     },
     "execution_count": 41,
     "metadata": {},
     "output_type": "execute_result"
    }
   ],
   "source": [
    "from sklearn.cluster import KMeans\n",
    "\n",
    "clusterer = KMeans(n_clusters = 5)\n",
    "cluster_preds = clusterer.fit_predict(average_colors)\n",
    "\n",
    "cluster_num, cluster_counts = np.unique(cluster_preds, return_counts = True)\n",
    "cluster_counts"
   ]
  },
  {
   "cell_type": "code",
   "execution_count": null,
   "metadata": {},
   "outputs": [],
   "source": []
  }
 ],
 "metadata": {
  "kernelspec": {
   "display_name": "FreeBall",
   "language": "python",
   "name": "python3"
  },
  "language_info": {
   "codemirror_mode": {
    "name": "ipython",
    "version": 3
   },
   "file_extension": ".py",
   "mimetype": "text/x-python",
   "name": "python",
   "nbconvert_exporter": "python",
   "pygments_lexer": "ipython3",
   "version": "3.10.16"
  }
 },
 "nbformat": 4,
 "nbformat_minor": 2
}
