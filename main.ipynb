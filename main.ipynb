{
 "cells": [
  {
   "cell_type": "code",
   "execution_count": 46,
   "metadata": {},
   "outputs": [
    {
     "name": "stdout",
     "output_type": "stream",
     "text": [
      "The autoreload extension is already loaded. To reload it, use:\n",
      "  %reload_ext autoreload\n"
     ]
    }
   ],
   "source": [
    "import pandas as pd\n",
    "import numpy as np\n",
    "\n",
    "import cv2\n",
    "import os\n",
    "\n",
    "from tqdm import tqdm\n",
    "\n",
    "%load_ext autoreload\n",
    "%autoreload 2"
   ]
  },
  {
   "cell_type": "code",
   "execution_count": 6,
   "metadata": {},
   "outputs": [
    {
     "name": "stderr",
     "output_type": "stream",
     "text": [
      "100%|██████████| 39/39 [00:00<00:00, 64.27it/s]\n"
     ]
    },
    {
     "name": "stdout",
     "output_type": "stream",
     "text": [
      "(39, 3)\n"
     ]
    },
    {
     "data": {
      "text/html": [
       "<div>\n",
       "<style scoped>\n",
       "    .dataframe tbody tr th:only-of-type {\n",
       "        vertical-align: middle;\n",
       "    }\n",
       "\n",
       "    .dataframe tbody tr th {\n",
       "        vertical-align: top;\n",
       "    }\n",
       "\n",
       "    .dataframe thead th {\n",
       "        text-align: right;\n",
       "    }\n",
       "</style>\n",
       "<table border=\"1\" class=\"dataframe\">\n",
       "  <thead>\n",
       "    <tr style=\"text-align: right;\">\n",
       "      <th></th>\n",
       "      <th>frame_count</th>\n",
       "      <th>fps</th>\n",
       "      <th>video_length</th>\n",
       "    </tr>\n",
       "    <tr>\n",
       "      <th>video_name</th>\n",
       "      <th></th>\n",
       "      <th></th>\n",
       "      <th></th>\n",
       "    </tr>\n",
       "  </thead>\n",
       "  <tbody>\n",
       "    <tr>\n",
       "      <th>20240602 212200 [FCtTboJZqRo].mp4</th>\n",
       "      <td>35910</td>\n",
       "      <td>30</td>\n",
       "      <td>19.950000</td>\n",
       "    </tr>\n",
       "    <tr>\n",
       "      <th>20240602 214212 [NnB1-UF8uLg].mp4</th>\n",
       "      <td>34013</td>\n",
       "      <td>30</td>\n",
       "      <td>18.896111</td>\n",
       "    </tr>\n",
       "    <tr>\n",
       "      <th>20240602 220107 [OyLe-Z-knPU].mp4</th>\n",
       "      <td>27811</td>\n",
       "      <td>30</td>\n",
       "      <td>15.450556</td>\n",
       "    </tr>\n",
       "    <tr>\n",
       "      <th>20240602 221937 [-YONig2XS1E].mp4</th>\n",
       "      <td>36293</td>\n",
       "      <td>30</td>\n",
       "      <td>20.162778</td>\n",
       "    </tr>\n",
       "    <tr>\n",
       "      <th>20240730 131005 [jxA1l8uesMw].mp4</th>\n",
       "      <td>38952</td>\n",
       "      <td>30</td>\n",
       "      <td>21.640000</td>\n",
       "    </tr>\n",
       "  </tbody>\n",
       "</table>\n",
       "</div>"
      ],
      "text/plain": [
       "                                   frame_count  fps  video_length\n",
       "video_name                                                       \n",
       "20240602 212200 [FCtTboJZqRo].mp4        35910   30     19.950000\n",
       "20240602 214212 [NnB1-UF8uLg].mp4        34013   30     18.896111\n",
       "20240602 220107 [OyLe-Z-knPU].mp4        27811   30     15.450556\n",
       "20240602 221937 [-YONig2XS1E].mp4        36293   30     20.162778\n",
       "20240730 131005 [jxA1l8uesMw].mp4        38952   30     21.640000"
      ]
     },
     "execution_count": 6,
     "metadata": {},
     "output_type": "execute_result"
    }
   ],
   "source": [
    "video_properties = []\n",
    "raw_data_dir = \"data/raw\"\n",
    "pbar = tqdm(os.listdir(raw_data_dir))\n",
    "\n",
    "for file in pbar:\n",
    "    capture = cv2.VideoCapture(os.path.join(raw_data_dir, file))\n",
    "\n",
    "    num_frames = int(capture.get(cv2.CAP_PROP_FRAME_COUNT))\n",
    "    vid_fps = int(capture.get(cv2.CAP_PROP_FPS))\n",
    "\n",
    "    vid_length = (num_frames / vid_fps) / 60\n",
    "    video_properties.append([file, num_frames, vid_fps, vid_length])\n",
    "\n",
    "meta_data = pd.DataFrame(\n",
    "    video_properties, \n",
    "    columns = [\"video_name\", \"frame_count\", \"fps\", \"video_length\"],\n",
    ").set_index(\"video_name\")\n",
    "\n",
    "print(meta_data.shape)\n",
    "meta_data.head()"
   ]
  },
  {
   "cell_type": "code",
   "execution_count": 69,
   "metadata": {},
   "outputs": [
    {
     "ename": "IndexError",
     "evalue": "index 500 is out of bounds for axis 3 with size 500",
     "output_type": "error",
     "traceback": [
      "\u001b[1;31m---------------------------------------------------------------------------\u001b[0m",
      "\u001b[1;31mIndexError\u001b[0m                                Traceback (most recent call last)",
      "Cell \u001b[1;32mIn[69], line 15\u001b[0m\n\u001b[0;32m     12\u001b[0m     \u001b[38;5;28;01mif\u001b[39;00m \u001b[38;5;129;01mnot\u001b[39;00m ret:\n\u001b[0;32m     13\u001b[0m         \u001b[38;5;28;01mbreak\u001b[39;00m\n\u001b[1;32m---> 15\u001b[0m     \u001b[43mvideo_array\u001b[49m\u001b[43m[\u001b[49m\u001b[43m:\u001b[49m\u001b[43m,\u001b[49m\u001b[43m \u001b[49m\u001b[43m:\u001b[49m\u001b[43m,\u001b[49m\u001b[43m \u001b[49m\u001b[43m:\u001b[49m\u001b[43m,\u001b[49m\u001b[43m \u001b[49m\u001b[43midx\u001b[49m\u001b[43m]\u001b[49m \u001b[38;5;241m=\u001b[39m frame\n\u001b[0;32m     16\u001b[0m     idx \u001b[38;5;241m+\u001b[39m\u001b[38;5;241m=\u001b[39m \u001b[38;5;241m1\u001b[39m\n\u001b[0;32m     18\u001b[0m video_array\u001b[38;5;241m.\u001b[39mshape\n",
      "\u001b[1;31mIndexError\u001b[0m: index 500 is out of bounds for axis 3 with size 500"
     ]
    }
   ],
   "source": [
    "# Try background estimation on a random video\n",
    "\n",
    "filename = meta_data.index[11]\n",
    "capture = cv2.VideoCapture(os.path.join(raw_data_dir, filename))\n",
    "\n",
    "# Use only the first 500 frames for testing\n",
    "video_array = np.zeros(shape = (360, 640, 3, 500), dtype = np.uint8)\n",
    "\n",
    "idx = 0\n",
    "while capture.isOpened():\n",
    "    ret, frame = capture.read()\n",
    "    if not ret:\n",
    "        break\n",
    "\n",
    "    video_array[:, :, :, idx] = frame\n",
    "    idx += 1\n",
    "\n",
    "video_array.shape"
   ]
  },
  {
   "cell_type": "code",
   "execution_count": null,
   "metadata": {},
   "outputs": [],
   "source": []
  }
 ],
 "metadata": {
  "kernelspec": {
   "display_name": "FreeBall",
   "language": "python",
   "name": "python3"
  },
  "language_info": {
   "codemirror_mode": {
    "name": "ipython",
    "version": 3
   },
   "file_extension": ".py",
   "mimetype": "text/x-python",
   "name": "python",
   "nbconvert_exporter": "python",
   "pygments_lexer": "ipython3",
   "version": "3.10.16"
  }
 },
 "nbformat": 4,
 "nbformat_minor": 2
}
